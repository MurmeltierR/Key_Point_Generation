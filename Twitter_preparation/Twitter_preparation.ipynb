{
 "cells": [
  {
   "cell_type": "code",
   "execution_count": 1,
   "metadata": {},
   "outputs": [],
   "source": [
    "import pandas as pd\n",
    "import numpy as np\n",
    "from bertopic import BERTopic\n",
    "import re\n",
    "import torch\n",
    "from sentence_transformers import SentenceTransformer\n",
    "from transformers import  RobertaForSequenceClassification, RobertaTokenizer, Trainer\n",
    "import datasets\n",
    "import hdbscan\n",
    "import os\n",
    "from statistics import mean, median\n",
    "from umap import UMAP\n",
    "from sklearn.feature_extraction.text import CountVectorizer\n",
    "import seaborn as sns\n",
    "import matplotlib.pyplot as plt\n",
    "import matplotlib.dates as mdates\n",
    "import matplotlib.cbook as cbook      "
   ]
  },
  {
   "cell_type": "code",
   "execution_count": 2,
   "metadata": {},
   "outputs": [
    {
     "data": {
      "text/plain": [
       "'cuda'"
      ]
     },
     "execution_count": 2,
     "metadata": {},
     "output_type": "execute_result"
    }
   ],
   "source": [
    "device = 'cuda' if torch.cuda.is_available() else 'cpu'\n",
    "model = SentenceTransformer('sentence-transformers/all-mpnet-base-v2')\n",
    "device"
   ]
  },
  {
   "cell_type": "code",
   "execution_count": 3,
   "metadata": {},
   "outputs": [
    {
     "data": {
      "text/plain": [
       "258184"
      ]
     },
     "execution_count": 3,
     "metadata": {},
     "output_type": "execute_result"
    }
   ],
   "source": [
    "tweets = pd.read_csv('../data/uk_mps.csv', sep=',')\n",
    "len(tweets)"
   ]
  },
  {
   "cell_type": "code",
   "execution_count": 4,
   "metadata": {},
   "outputs": [
    {
     "data": {
      "text/plain": [
       "257149"
      ]
     },
     "execution_count": 4,
     "metadata": {},
     "output_type": "execute_result"
    }
   ],
   "source": [
    "tweets['date'] = pd.to_datetime(tweets.created_at, format='%Y-%m-%d')\n",
    "tweets = tweets[(tweets['date'] >= '2021-09-02') & (tweets['date'] < '2022-01-03')]\n",
    "len(tweets)"
   ]
  },
  {
   "cell_type": "code",
   "execution_count": 5,
   "metadata": {},
   "outputs": [
    {
     "name": "stderr",
     "output_type": "stream",
     "text": [
      "The PostScript backend does not support transparency; partially transparent artists will be rendered opaque.\n"
     ]
    },
    {
     "data": {
      "image/png": "[encoded data removed]",
      "text/plain": [
       "<Figure size 640x480 with 1 Axes>"
      ]
     },
     "metadata": {},
     "output_type": "display_data"
    }
   ],
   "source": [
    "tweets['date'] = tweets['date'].dt.date\n",
    "daily_counts =  tweets.groupby(by='date').size()\n",
    "count_median = daily_counts.median()\n",
    "\n",
    "bar_width = 1\n",
    "fig, axs = plt.subplots(constrained_layout=True)\n",
    "plt.bar(daily_counts.index, daily_counts, bar_width,  color='cornflowerblue')\n",
    "\n",
    "months = mdates.MonthLocator(interval=1)\n",
    "months_fmt = mdates.DateFormatter('%Y-%B')\n",
    "axs.xaxis.set_major_locator(months)\n",
    "axs.xaxis.set_major_formatter(months_fmt)\n",
    "days = mdates.DayLocator(interval=7)\n",
    "axs.xaxis.set_minor_locator(days)\n",
    "axs.axhline(count_median, color='blue', linewidth=2, label='Median')\n",
    "axs.grid(True)\n",
    "axs.set_ylabel(r'Daily Tweet Count')\n",
    "plt.legend()\n",
    "plt.savefig('../data/dailycount_raw.eps', format='eps')"
   ]
  },
  {
   "cell_type": "code",
   "execution_count": 6,
   "metadata": {},
   "outputs": [
    {
     "data": {
      "text/plain": [
       "120712"
      ]
     },
     "execution_count": 6,
     "metadata": {},
     "output_type": "execute_result"
    }
   ],
   "source": [
    "tweets = tweets[tweets['full_text'].str.contains('RT')==False]\n",
    "len(tweets)"
   ]
  },
  {
   "cell_type": "code",
   "execution_count": 7,
   "metadata": {},
   "outputs": [
    {
     "data": {
      "text/plain": [
       "120419"
      ]
     },
     "execution_count": 7,
     "metadata": {},
     "output_type": "execute_result"
    }
   ],
   "source": [
    "tweets.drop_duplicates(subset=['full_text'], keep = False, inplace = True)\n",
    "len(tweets)"
   ]
  },
  {
   "cell_type": "code",
   "execution_count": 8,
   "metadata": {},
   "outputs": [
    {
     "data": {
      "text/plain": [
       "118862"
      ]
     },
     "execution_count": 8,
     "metadata": {},
     "output_type": "execute_result"
    }
   ],
   "source": [
    "#remove urls\n",
    "tweets['text_processed'] = tweets['full_text'].map(lambda x: re.sub(r'https?:\\/\\/.*[\\r\\n]*', '', x))\n",
    "#remove mentions\n",
    "tweets['text_processed'] = tweets['text_processed'].map(lambda x: re.sub(r'[^A-Za-zÀ-ž ]', '', x))\n",
    "tweets['text_processed'] = tweets['text_processed'].map(lambda x: re.sub(r'(@[A-Za-z0-9]+)', '', x))\n",
    "#remove and lowercase\n",
    "tweets['text_processed_cluster'] = tweets['text_processed'].apply(lambda x: ' '.join([word.lower() for word in x.split()]))\n",
    "#drop empty rows\n",
    "tweets['text_processed'].replace('', np.nan, inplace=True)\n",
    "tweets.dropna(subset=['text_processed'], inplace=True)\n",
    "tweets['text_processed_cluster'].replace('', np.nan, inplace=True)\n",
    "tweets.dropna(subset=['text_processed_cluster'], inplace=True)\n",
    "len(tweets)"
   ]
  },
  {
   "cell_type": "code",
   "execution_count": 9,
   "metadata": {},
   "outputs": [
    {
     "data": {
      "text/plain": [
       "Party\n",
       "Alliance Party of Northern Ireland      225\n",
       "Conservative                          39035\n",
       "Democratic Unionist Party               383\n",
       "Green Party                             645\n",
       "Independent                             755\n",
       "Labour                                57948\n",
       "Liberal Democrat                       3395\n",
       "Plaid Cymru                             530\n",
       "Scottish National Party               14097\n",
       "Sinn Féin                               619\n",
       "Social Democratic and Labour Party      617\n",
       "Speaker                                  90\n",
       "Name: Party, dtype: int64"
      ]
     },
     "execution_count": 9,
     "metadata": {},
     "output_type": "execute_result"
    }
   ],
   "source": [
    "tweets_per_party = tweets.groupby('Party')['Party'].count()\n",
    "tweets_per_party"
   ]
  },
  {
   "cell_type": "code",
   "execution_count": 10,
   "metadata": {},
   "outputs": [
    {
     "data": {
      "text/plain": [
       "114475"
      ]
     },
     "execution_count": 10,
     "metadata": {},
     "output_type": "execute_result"
    }
   ],
   "source": [
    "tweets = tweets[tweets.Party.isin(['Conservative', 'Liberal Democrat', 'Labour', 'Scottish National Party'])]\n",
    "len(tweets)"
   ]
  },
  {
   "cell_type": "code",
   "execution_count": 11,
   "metadata": {},
   "outputs": [
    {
     "name": "stderr",
     "output_type": "stream",
     "text": [
      "loading file vocab.json\n",
      "loading file merges.txt\n",
      "loading file added_tokens.json\n",
      "loading file special_tokens_map.json\n",
      "loading file tokenizer_config.json\n"
     ]
    },
    {
     "data": {
      "application/vnd.jupyter.widget-view+json": {
       "model_id": "76ace87e26f34a1ba8cfd210718d3239",
       "version_major": 2,
       "version_minor": 0
      },
      "text/plain": [
       "  0%|          | 0/115 [00:00<?, ?ba/s]"
      ]
     },
     "metadata": {},
     "output_type": "display_data"
    },
    {
     "name": "stderr",
     "output_type": "stream",
     "text": [
      "The following columns in the test set don't have a corresponding argument in `RobertaForSequenceClassification.forward` and have been ignored: __index_level_0__, Constituency, id, user_name, created_at, full_text, Party, date, text_processed_cluster, id_str, text_processed, user_followers_count, user_id, user_screen_name. If __index_level_0__, Constituency, id, user_name, created_at, full_text, Party, date, text_processed_cluster, id_str, text_processed, user_followers_count, user_id, user_screen_name are not expected by `RobertaForSequenceClassification.forward`,  you can safely ignore this message.\n",
      "***** Running Prediction *****\n",
      "  Num examples = 114475\n",
      "  Batch size = 8\n"
     ]
    },
    {
     "data": {
      "application/vnd.jupyter.widget-view+json": {
       "model_id": "d28382d58dc1466ebb0eb2c6a95b374a",
       "version_major": 2,
       "version_minor": 0
      },
      "text/plain": [
       "  0%|          | 0/14310 [00:00<?, ?it/s]"
      ]
     },
     "metadata": {},
     "output_type": "display_data"
    }
   ],
   "source": [
    "noisy_dataset = datasets.Dataset.from_pandas(tweets)\n",
    "model = RobertaForSequenceClassification.from_pretrained('../results/roberta_base_arg_20').to(device)\n",
    "trainer = Trainer(model=model)\n",
    "tokenizer = RobertaTokenizer.from_pretrained('../results/roberta_base_arg_20')\n",
    "tokenize = lambda sentences: tokenizer(sentences['text_processed_cluster'], padding='max_length', truncation=True)\n",
    "tok_noisy_dataset = noisy_dataset.map(tokenize, batched=True)\n",
    "prediction = trainer.predict(tok_noisy_dataset)\n",
    "tweets['argumentative'] = prediction.predictions.argmax(-1)\n",
    "tweets = tweets[tweets['argumentative']==1]"
   ]
  },
  {
   "cell_type": "code",
   "execution_count": 12,
   "metadata": {},
   "outputs": [
    {
     "data": {
      "text/plain": [
       "34998"
      ]
     },
     "execution_count": 12,
     "metadata": {},
     "output_type": "execute_result"
    }
   ],
   "source": [
    "len(tweets)"
   ]
  },
  {
   "cell_type": "code",
   "execution_count": 16,
   "metadata": {},
   "outputs": [
    {
     "data": {
      "text/plain": [
       "Party\n",
       "Conservative               12974\n",
       "Labour                     18236\n",
       "Liberal Democrat            1267\n",
       "Scottish National Party     2521\n",
       "Name: Party, dtype: int64"
      ]
     },
     "execution_count": 16,
     "metadata": {},
     "output_type": "execute_result"
    }
   ],
   "source": [
    "tweets_per_party = tweets.groupby('Party')['Party'].count()\n",
    "tweets_per_party"
   ]
  },
  {
   "cell_type": "code",
   "execution_count": 18,
   "metadata": {},
   "outputs": [
    {
     "name": "stderr",
     "output_type": "stream",
     "text": [
      "loading configuration file C:\\Users\\pEhne/.cache\\torch\\sentence_transformers\\sentence-transformers_all-mpnet-base-v2\\config.json\n",
      "Model config MPNetConfig {\n",
      "  \"_name_or_path\": \"C:\\\\Users\\\\pEhne/.cache\\\\torch\\\\sentence_transformers\\\\sentence-transformers_all-mpnet-base-v2\\\\\",\n",
      "  \"architectures\": [\n",
      "    \"MPNetForMaskedLM\"\n",
      "  ],\n",
      "  \"attention_probs_dropout_prob\": 0.1,\n",
      "  \"bos_token_id\": 0,\n",
      "  \"eos_token_id\": 2,\n",
      "  \"hidden_act\": \"gelu\",\n",
      "  \"hidden_dropout_prob\": 0.1,\n",
      "  \"hidden_size\": 768,\n",
      "  \"initializer_range\": 0.02,\n",
      "  \"intermediate_size\": 3072,\n",
      "  \"layer_norm_eps\": 1e-05,\n",
      "  \"max_position_embeddings\": 514,\n",
      "  \"model_type\": \"mpnet\",\n",
      "  \"num_attention_heads\": 12,\n",
      "  \"num_hidden_layers\": 12,\n",
      "  \"pad_token_id\": 1,\n",
      "  \"relative_attention_num_buckets\": 32,\n",
      "  \"transformers_version\": \"4.25.1\",\n",
      "  \"vocab_size\": 30527\n",
      "}\n",
      "\n",
      "loading weights file C:\\Users\\pEhne/.cache\\torch\\sentence_transformers\\sentence-transformers_all-mpnet-base-v2\\pytorch_model.bin\n",
      "All model checkpoint weights were used when initializing MPNetModel.\n",
      "\n",
      "All the weights of MPNetModel were initialized from the model checkpoint at C:\\Users\\pEhne/.cache\\torch\\sentence_transformers\\sentence-transformers_all-mpnet-base-v2\\.\n",
      "If your task is similar to the task the model of the checkpoint was trained on, you can already use MPNetModel for predictions without further training.\n",
      "loading file vocab.txt\n",
      "loading file tokenizer.json\n",
      "loading file added_tokens.json\n",
      "loading file special_tokens_map.json\n",
      "loading file tokenizer_config.json\n"
     ]
    }
   ],
   "source": [
    "if round(len(tweets)/50) < 3:\n",
    "    min_topic_size = 3\n",
    "else: \n",
    "    min_topic_size = round(len(tweets)/50)\n",
    "from bertopic import BERTopic\n",
    "combined_df = pd.DataFrame()\n",
    "umap_model = UMAP(random_state=42, n_components=5, min_dist=0.0, metric='cosine')\n",
    "vectorizer_model = CountVectorizer(ngram_range=(1, 2), stop_words='english')\n",
    "hdbscan_model = hdbscan.HDBSCAN(min_cluster_size=min_topic_size, metric='euclidean', cluster_selection_method='eom', prediction_data=True)\n",
    "embedding_model = SentenceTransformer('all-mpnet-base-v2')\n",
    "\n",
    "topic_model = BERTopic(embedding_model=embedding_model, hdbscan_model=hdbscan_model, umap_model=umap_model, vectorizer_model=vectorizer_model, min_topic_size=min_topic_size, verbose=True, calculate_probabilities=True, nr_topics='auto')"
   ]
  },
  {
   "cell_type": "code",
   "execution_count": 19,
   "metadata": {},
   "outputs": [
    {
     "data": {
      "application/vnd.jupyter.widget-view+json": {
       "model_id": "ad60917ec66646e1a1587062edb6bb40",
       "version_major": 2,
       "version_minor": 0
      },
      "text/plain": [
       "Batches:   0%|          | 0/1094 [00:00<?, ?it/s]"
      ]
     },
     "metadata": {},
     "output_type": "display_data"
    },
    {
     "name": "stderr",
     "output_type": "stream",
     "text": [
      "2023-02-09 17:58:32,153 - BERTopic - Transformed documents to Embeddings\n",
      "2023-02-09 17:59:18,416 - BERTopic - Reduced dimensionality\n",
      "2023-02-09 17:59:32,107 - BERTopic - Clustered reduced embeddings\n",
      "2023-02-09 17:59:43,497 - BERTopic - Reduced number of topics from 10 to 10\n"
     ]
    }
   ],
   "source": [
    "topics, probabilities = topic_model.fit_transform(tweets['text_processed_cluster'].to_list())"
   ]
  },
  {
   "cell_type": "code",
   "execution_count": 20,
   "metadata": {},
   "outputs": [],
   "source": [
    "topics_list = topic_model.get_topics()"
   ]
  },
  {
   "cell_type": "code",
   "execution_count": 22,
   "metadata": {},
   "outputs": [
    {
     "data": {
      "text/html": [
       "<div>\n",
       "<style scoped>\n",
       "    .dataframe tbody tr th:only-of-type {\n",
       "        vertical-align: middle;\n",
       "    }\n",
       "\n",
       "    .dataframe tbody tr th {\n",
       "        vertical-align: top;\n",
       "    }\n",
       "\n",
       "    .dataframe thead th {\n",
       "        text-align: right;\n",
       "    }\n",
       "</style>\n",
       "<table border=\"1\" class=\"dataframe\">\n",
       "  <thead>\n",
       "    <tr style=\"text-align: right;\">\n",
       "      <th></th>\n",
       "      <th>Topic</th>\n",
       "      <th>Count</th>\n",
       "      <th>Name</th>\n",
       "    </tr>\n",
       "  </thead>\n",
       "  <tbody>\n",
       "    <tr>\n",
       "      <th>0</th>\n",
       "      <td>-1</td>\n",
       "      <td>16559</td>\n",
       "      <td>-1_amp_support_people_government</td>\n",
       "    </tr>\n",
       "    <tr>\n",
       "      <th>1</th>\n",
       "      <td>0</td>\n",
       "      <td>3413</td>\n",
       "      <td>0_care_tax_social_universal</td>\n",
       "    </tr>\n",
       "    <tr>\n",
       "      <th>2</th>\n",
       "      <td>1</td>\n",
       "      <td>2634</td>\n",
       "      <td>1_great_local_work_amp</td>\n",
       "    </tr>\n",
       "    <tr>\n",
       "      <th>3</th>\n",
       "      <td>2</td>\n",
       "      <td>2445</td>\n",
       "      <td>2_climate_cop_energy_green</td>\n",
       "    </tr>\n",
       "    <tr>\n",
       "      <th>4</th>\n",
       "      <td>3</td>\n",
       "      <td>2379</td>\n",
       "      <td>3_uk_amp_people_trade</td>\n",
       "    </tr>\n",
       "    <tr>\n",
       "      <th>5</th>\n",
       "      <td>4</td>\n",
       "      <td>2286</td>\n",
       "      <td>4_women_violence_police_girls</td>\n",
       "    </tr>\n",
       "    <tr>\n",
       "      <th>6</th>\n",
       "      <td>5</td>\n",
       "      <td>2143</td>\n",
       "      <td>5_covid_vaccine_booster_vaccines</td>\n",
       "    </tr>\n",
       "    <tr>\n",
       "      <th>7</th>\n",
       "      <td>6</td>\n",
       "      <td>1588</td>\n",
       "      <td>6_rules_mps_tory_corruption</td>\n",
       "    </tr>\n",
       "    <tr>\n",
       "      <th>8</th>\n",
       "      <td>7</td>\n",
       "      <td>849</td>\n",
       "      <td>7_rail_transport_services_north</td>\n",
       "    </tr>\n",
       "    <tr>\n",
       "      <th>9</th>\n",
       "      <td>8</td>\n",
       "      <td>702</td>\n",
       "      <td>8_remember_remembrance_service_armed</td>\n",
       "    </tr>\n",
       "  </tbody>\n",
       "</table>\n",
       "</div>"
      ],
      "text/plain": [
       "   Topic  Count                                  Name\n",
       "0     -1  16559      -1_amp_support_people_government\n",
       "1      0   3413           0_care_tax_social_universal\n",
       "2      1   2634                1_great_local_work_amp\n",
       "3      2   2445            2_climate_cop_energy_green\n",
       "4      3   2379                 3_uk_amp_people_trade\n",
       "5      4   2286         4_women_violence_police_girls\n",
       "6      5   2143      5_covid_vaccine_booster_vaccines\n",
       "7      6   1588           6_rules_mps_tory_corruption\n",
       "8      7    849       7_rail_transport_services_north\n",
       "9      8    702  8_remember_remembrance_service_armed"
      ]
     },
     "execution_count": 22,
     "metadata": {},
     "output_type": "execute_result"
    }
   ],
   "source": [
    "topic_model.get_topic_info()"
   ]
  },
  {
   "cell_type": "code",
   "execution_count": 24,
   "metadata": {},
   "outputs": [],
   "source": [
    "tweets['probabilities'] = [sorted(((value, index) for index, value in enumerate(probs)), reverse=True)[:1] for probs in probabilities]\n",
    "tweets['probabilities'] = tweets['probabilities'].map(lambda x: x[0][1])"
   ]
  },
  {
   "cell_type": "code",
   "execution_count": 25,
   "metadata": {},
   "outputs": [],
   "source": [
    "tweets.to_csv('../datasets/tweet_corpus_2percent_arg.csv', encoding='utf8',sep='\\t', index=False)"
   ]
  },
  {
   "cell_type": "code",
   "execution_count": 26,
   "metadata": {},
   "outputs": [],
   "source": [
    "topic_model.save('../results/topic_model_2percent_arg')"
   ]
  }
 ],
 "metadata": {
  "kernelspec": {
   "display_name": "keypoint_hyperdrive",
   "language": "python",
   "name": "python3"
  },
  "language_info": {
   "codemirror_mode": {
    "name": "ipython",
    "version": 3
   },
   "file_extension": ".py",
   "mimetype": "text/x-python",
   "name": "python",
   "nbconvert_exporter": "python",
   "pygments_lexer": "ipython3",
   "version": "3.8.15"
  },
  "orig_nbformat": 4,
  "vscode": {
   "interpreter": {
    "hash": "fad0d992733f2714f58ea07c8c405d5f4b174426e27e01d683fbe5290a8afad6"
   }
  }
 },
 "nbformat": 4,
 "nbformat_minor": 2
}
