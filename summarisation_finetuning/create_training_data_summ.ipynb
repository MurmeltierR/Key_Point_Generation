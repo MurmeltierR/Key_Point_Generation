{
 "cells": [
  {
   "cell_type": "code",
   "execution_count": 1,
   "metadata": {},
   "outputs": [],
   "source": [
    "import pandas as pd"
   ]
  },
  {
   "cell_type": "code",
   "execution_count": 2,
   "metadata": {},
   "outputs": [],
   "source": [
    "dataset_path = '../datasets/'"
   ]
  },
  {
   "cell_type": "code",
   "execution_count": 3,
   "metadata": {},
   "outputs": [],
   "source": [
    "df = pd.read_csv(dataset_path + 'ArgKP_2021_dataset.csv')"
   ]
  },
  {
   "cell_type": "code",
   "execution_count": 4,
   "metadata": {},
   "outputs": [],
   "source": [
    "test_topics = ['Social', 'vaccination', 'USA', 'celibacy', 'Homeschooling', 'suicide']\n",
    "val_topics = ['marriage', 'school uniform', 'austerity', 'urbanization']"
   ]
  },
  {
   "cell_type": "code",
   "execution_count": 5,
   "metadata": {},
   "outputs": [],
   "source": [
    "df_test = df[df['topic'].str.contains('|'.join(test_topics))].reset_index()\n",
    "df_val = df[df['topic'].str.contains('|'.join(val_topics))].reset_index()"
   ]
  },
  {
   "cell_type": "code",
   "execution_count": 6,
   "metadata": {},
   "outputs": [],
   "source": [
    "df_train = df[~df['topic'].str.contains('|'.join(test_topics + val_topics))].reset_index()"
   ]
  },
  {
   "cell_type": "code",
   "execution_count": 7,
   "metadata": {},
   "outputs": [],
   "source": [
    "df_train = df_train.groupby(['key_point'])['argument'].apply('. '.join)\n",
    "df_test = df_test.groupby(['key_point'])['argument'].apply('. '.join)\n",
    "df_val = df_val.groupby(['key_point'])['argument'].apply('. '.join)"
   ]
  },
  {
   "cell_type": "code",
   "execution_count": 8,
   "metadata": {},
   "outputs": [],
   "source": [
    "df_train.to_csv('../datasets/sum_train.csv')\n",
    "df_val.to_csv('../datasets/sum_val.csv')\n",
    "df_test.to_csv('../datasets/sum_test.csv')"
   ]
  }
 ],
 "metadata": {
  "kernelspec": {
   "display_name": "keypoint_analysis",
   "language": "python",
   "name": "python3"
  },
  "language_info": {
   "codemirror_mode": {
    "name": "ipython",
    "version": 3
   },
   "file_extension": ".py",
   "mimetype": "text/x-python",
   "name": "python",
   "nbconvert_exporter": "python",
   "pygments_lexer": "ipython3",
   "version": "3.9.13"
  },
  "orig_nbformat": 4,
  "vscode": {
   "interpreter": {
    "hash": "52fe7d7601dac5af3c1ad97d2051df4e3be03ed5d0930aa9b612884a92ba3b64"
   }
  }
 },
 "nbformat": 4,
 "nbformat_minor": 2
}
